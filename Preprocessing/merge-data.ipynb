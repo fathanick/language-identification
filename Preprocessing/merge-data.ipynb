{
 "cells": [
  {
   "cell_type": "code",
   "execution_count": 37,
   "metadata": {},
   "outputs": [],
   "source": [
    "import os\n",
    "import glob\n",
    "import pandas as pd"
   ]
  },
  {
   "cell_type": "code",
   "execution_count": 38,
   "metadata": {},
   "outputs": [],
   "source": [
    "#access file location\n",
    "tw_idn = glob.glob('../all_tweets/ID/*.csv') \n",
    "tw_jv = glob.glob('../all_tweets/JV/*.csv')\n",
    "tw_sd = glob.glob('../all_tweets/SD/*.csv')"
   ]
  },
  {
   "cell_type": "code",
   "execution_count": 39,
   "metadata": {},
   "outputs": [],
   "source": [
    "# gabungkan dulu untuk setiap kelas\n",
    "# tambah satu kolom yang diisi label\n",
    "# gabungkan semuanya ke dalam satu file excel\n"
   ]
  },
  {
   "cell_type": "code",
   "execution_count": 48,
   "metadata": {},
   "outputs": [],
   "source": [
    "#merge files function\n",
    "\n",
    "def merge_files(floc):\n",
    "    merged_files = pd.DataFrame()\n",
    "\n",
    "    for f in floc:\n",
    "        df = pd.read_csv(f)\n",
    "        merged_files = merged_files.append(df, ignore_index=True)\n",
    "\n",
    "    if floc == tw_idn:\n",
    "        merged_files['label'] = 'Indonesia'\n",
    "    elif floc == tw_jv:\n",
    "        merged_files['label'] = 'Jawa'\n",
    "    elif floc == tw_sd:\n",
    "        merged_files['label'] = 'Sunda'\n",
    "    \n",
    "    return merged_files"
   ]
  },
  {
   "cell_type": "code",
   "execution_count": 59,
   "metadata": {},
   "outputs": [
    {
     "output_type": "stream",
     "name": "stdout",
     "text": [
      "                        id           created_at  \\\n0      1372447800475099141  2021-03-18 07:20:29   \n1      1372447305157148674  2021-03-18 07:18:31   \n2      1372447157668646912  2021-03-18 07:17:55   \n3      1372354757524742145  2021-03-18 01:10:45   \n4      1372140188047007745  2021-03-17 10:58:08   \n...                    ...                  ...   \n15833   902166694965030914  2017-08-28 13:51:16   \n15834   902130362997923840  2017-08-28 11:26:53   \n15835   902126557610745856  2017-08-28 11:11:46   \n15836   901798724397031426  2017-08-27 13:29:05   \n15837   901798496574906369  2017-08-27 13:28:10   \n\n                                                    text      label  \n0      b\"Vaksinasi massal untuk pekerja publik dan ke...  Indonesia  \n1      b'Dari Toraja, saya juga meresmikan secara vir...  Indonesia  \n2      b'Tiga bukit dipangkas untuk membangun landas ...  Indonesia  \n3      b'Selamat pagi, Toraja. Saya bertolak ke Banda...  Indonesia  \n4      b'Program Kartu Prakerja pada 2020, menjangkau...  Indonesia  \n...                                                  ...        ...  \n15833  b'RT @DediMulyadi71: lihatlah ke atas untuk me...      Sunda  \n15834  b'penjaga budaya dan Pancasila beserta kebhine...      Sunda  \n15835  b'memperlakukan warga seperti keluarga #JabarS...      Sunda  \n15836  b'Melestarikan budaya leluhur #JabarSejati htt...      Sunda  \n15837  b'RT @negativisme: Heran ya, kenapa bupati yan...      Sunda  \n\n[46822 rows x 4 columns]\n"
     ]
    }
   ],
   "source": [
    "if __name__ == '__main__':\n",
    "    df1 = merge_files(tw_idn)\n",
    "    df2 = merge_files(tw_jv)\n",
    "    df3 = merge_files(tw_sd)\n",
    "\n",
    "    #concatenace all dataframes\n",
    "    merge_all = pd.concat([df1, df2, df3])\n",
    "    print(merge_all['text'])\n",
    "    #merge_all['text'] = merge_all['text'].str.decode('utf-8')\n",
    "    #print(merge_all['text'])\n",
    "    \n",
    "    #check merged files\n",
    "    #print(merge_all)\n",
    "    #print(len(merge_all))\n",
    "\n",
    "    #save to excel\n",
    "    #merge_all.to_excel('../all_tweets/all_data.xlsx')\n",
    "    "
   ]
  },
  {
   "cell_type": "code",
   "execution_count": null,
   "metadata": {},
   "outputs": [],
   "source": []
  }
 ],
 "metadata": {
  "language_info": {
   "codemirror_mode": {
    "name": "ipython",
    "version": 3
   },
   "file_extension": ".py",
   "mimetype": "text/x-python",
   "name": "python",
   "nbconvert_exporter": "python",
   "pygments_lexer": "ipython3",
   "version": "3.7.4-final"
  },
  "orig_nbformat": 2,
  "kernelspec": {
   "name": "python37464bitanaconda3virtualenvfc801a8c42d14f0d884d7f22cd4e486a",
   "display_name": "Python 3.7.4 64-bit ('anaconda3': virtualenv)",
   "language": "python"
  }
 },
 "nbformat": 4,
 "nbformat_minor": 2
}
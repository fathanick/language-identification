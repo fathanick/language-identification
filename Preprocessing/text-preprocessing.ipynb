{
 "metadata": {
  "language_info": {
   "codemirror_mode": {
    "name": "ipython",
    "version": 3
   },
   "file_extension": ".py",
   "mimetype": "text/x-python",
   "name": "python",
   "nbconvert_exporter": "python",
   "pygments_lexer": "ipython3",
   "version": "3.7.4-final"
  },
  "orig_nbformat": 2,
  "kernelspec": {
   "name": "python37464bitanaconda3virtualenvfc801a8c42d14f0d884d7f22cd4e486a",
   "display_name": "Python 3.7.4 64-bit ('anaconda3': virtualenv)",
   "language": "python"
  }
 },
 "nbformat": 4,
 "nbformat_minor": 2,
 "cells": [
  {
   "cell_type": "code",
   "execution_count": null,
   "metadata": {},
   "outputs": [],
   "source": [
    "# https://towardsdatascience.com/nlp-for-beginners-cleaning-preprocessing-text-data-ae8e306bef0f"
   ]
  },
  {
   "cell_type": "code",
   "execution_count": 76,
   "metadata": {},
   "outputs": [],
   "source": [
    "import pandas as pd\n",
    "import re, string, unicodedata\n",
    "import nltk\n",
    "import contractions\n",
    "import inflect\n",
    "from bs4 import BeautifulSoup\n",
    "from nltk.tokenize import word_tokenize, RegexpTokenizer"
   ]
  },
  {
   "cell_type": "code",
   "execution_count": 93,
   "metadata": {},
   "outputs": [],
   "source": [
    "def strip_html(text):\n",
    "    soup = BeautifulSoup(text, \"html.parser\")\n",
    "    return soup.get_text()\n",
    "\n",
    "def remove_between_square_brackets(text):\n",
    "    return re.sub('\\[[^]]*\\]', '', text)\n",
    "\n",
    "def replace_contractions(text):\n",
    "    \"\"\"Replace contractions in string of text\"\"\"\n",
    "    return contractions.fix(text)\n",
    "\n",
    "def denoise_text(text):\n",
    "    text = strip_html(text)\n",
    "    text = remove_between_square_brackets(text)\n",
    "    text = replace_contractions(text)\n",
    "    return text\n",
    "\n",
    "def remove_nonascii(text):\n",
    "    text = unicodedata.normalize('NFKD', text).encode('ascii', 'ignore').decode('utf-8', 'ignore')\n",
    "    return text\n",
    "\n",
    "def remove_url(text):\n",
    "    text = re.sub(r'(?i)\\b((?:https?://|www\\d{0,3}[.]|[a-z0-9.\\-]+[.][a-z]{2,4}/)(?:[^\\s()<>]+|\\(([^\\s()<>]+|(\\([^\\s()<>]+\\)))*\\))+(?:\\(([^\\s()<>]+|(\\([^\\s()<>]+\\)))*\\)|[^\\s`!()\\[\\]{};:\\'\".,<>?«»“”‘’]))', '', text)\n",
    "    return text\n",
    "\n",
    "def remove_digit_from_string(text):\n",
    "    text = re.sub(\"\\S*\\d\\S*\", \"\", text).strip()\n",
    "    return text\n",
    "\n",
    "def remove_digit(text):\n",
    "    text = re.sub(r\"\\b\\d+\\b\", \" \", text)\n",
    "    return text\n",
    "\n",
    "def remove_punctuations(text):\n",
    "    text = re.sub(r'[^\\w]|_',' ',text)\n",
    "    return text\n",
    "\n",
    "def remove_byte_str(text):\n",
    "    text = text.replace(\"b'\",'')\n",
    "    text = text.replace('b\"','')\n",
    "    return text\n",
    "\n",
    "def remove_additional_white_spaces(text):\n",
    "    text = re.sub('[\\s]+', ' ', text)\n",
    "    return text\n",
    "\n",
    "def remove_retweet_mention(text):\n",
    "    text = re.sub('RT @[\\w_]+: ', '', text)\n",
    "    return text\n",
    "\n",
    "def remove_single_letter(text):\n",
    "    text = re.sub('(\\\\b[A-Za-z] \\\\b|\\\\b [A-Za-z]\\\\b)', '', text)\n",
    "    return text\n",
    "    \n",
    "def do_preprocessing(text):\n",
    "    text = denoise_text(text)\n",
    "    text = remove_byte_str(text)\n",
    "    text = remove_retweet_mention(text)\n",
    "    text = remove_nonascii(text)\n",
    "    text = remove_single_letter(text)\n",
    "    text = remove_url(text)\n",
    "    text = remove_digit_from_string(text)\n",
    "    text = remove_digit(text)\n",
    "    text = remove_punctuations(text)\n",
    "    text = remove_additional_white_spaces(text)\n",
    "    text = text.lower()\n",
    "\n",
    "    return text"
   ]
  },
  {
   "cell_type": "code",
   "execution_count": 87,
   "metadata": {},
   "outputs": [
    {
     "output_type": "stream",
     "name": "stdout",
     "text": [
      "kegiatan yang sama berlangsung di tes puskesmas di kabupaten itu \nadi utarini masuk daftar natureas ten people who helped shape science in dari jurnal sains nature sementara tri mumpuni termasuk most influential muslim scientists \nbandara dengan landas pacu meter dan terminal berkapasitas hingga penumpang per tahun itu adalah wujud kehadiran pemerintah membangun wilayah tertinggal terpencil dan terluar\nvaksinasi massal untuk pekerja publik dan kelompok lansia sedang digelar di puskesmas getengan kabupaten tana toraja ketika saya datang berkunjung pagi tadi kegiatan yang sama berlangsung di puskesmas di kabupaten itu \n"
     ]
    }
   ],
   "source": [
    "#test code\n",
    "text = ['\\n\\nKegiatan yang sama berlangsung di 20 <head>tes </head> puskesmas di kabupaten </br> itu. 4L4y https://t.co/dqVoKKu5qI','Adi Utarini masuk daftar \"Nature\\xe2\\x80\\x99s 10: Ten People Who Helped Shape Science in 2020\" dari jurnal sains Nature. Sementara Tri Mumpuni termasuk 22 Most Influential Muslim Scientists. https://t.co/9fkpB8B1gC',' \\n\\nBandara dengan landas pacu 900x30 meter dan terminal berkapasitas hingga 36.000 penumpang per tahun itu adalah wujud kehadiran pemerintah membangun wilayah tertinggal, terpencil, dan terluar','Vaksinasi massal untuk pekerja publik dan kelompok lansia sedang digelar di Puskesmas Getengan, Kabupaten Tana Toraja, ketika saya datang berkunjung pagi tadi. \\n\\nKegiatan yang sama berlangsung di 20 puskesmas di kabupaten itu. https://t.co/dqVoKKu5qI']\n",
    "\n",
    "for n in text:\n",
    "    print(do_preprocessing(n))"
   ]
  },
  {
   "cell_type": "code",
   "execution_count": 94,
   "metadata": {},
   "outputs": [
    {
     "output_type": "stream",
     "name": "stdout",
     "text": [
      "Ori:\n b\"Vaksinasi massal untuk pekerja publik dan kelompok lansia sedang digelar di Puskesmas Ge'tengan, Kabupaten Tana Toraja, ketika saya datang berkunjung pagi tadi. Kegiatan yang sama berlangsung di 20 puskesmas di kabupaten itu. https://t.co/dqVoKKu5qI\"\nNew:\n vaksinasi massal untuk pekerja publik dan kelompok lansia sedang digelar di puskesmas ge tengan kabupaten tana toraja ketika saya datang berkunjung pagi tadi kegiatan yang sama berlangsung di puskesmas di kabupaten itu \n\n\nOri:\n b'Dari Toraja, saya juga meresmikan secara virtual Bandara Pantar di Kab. Alor, NTT. Bandara dengan landas pacu 900x30 meter dan terminal berkapasitas hingga 36.000 penumpang per tahun itu adalah wujud kehadiran pemerintah membangun wilayah tertinggal, terpencil, dan terluar.'\nNew:\n dari toraja saya juga meresmikan secara virtual bandara pantar di kab alor ntt bandara dengan landas pacu meter dan terminal berkapasitas hingga penumpang per tahun itu adalah wujud kehadiran pemerintah membangun wilayah tertinggal terpencil dan terluar \n\n\nOri:\n b'Tiga bukit dipangkas untuk membangun landas pacu Bandara Toraja sepanjang 2.000x30 m. Bandara inilah yang baru saja saya resmikan di Tana Toraja, Sulawesi Selatan. Bandara ini penting untuk mendorong konektivitas dan pariwisata setempat. https://t.co/Ay5ov7qlSe'\nNew:\n tiga bukit dipangkas untuk membangun landas pacu bandara toraja sepanjang m bandara inilah yang baru saja saya resmikan di tana toraja sulawesi selatan bandara ini penting untuk mendorong konektivitas dan pariwisata setempat \n\n\nOri:\n b'Selamat pagi, Toraja. Saya bertolak ke Bandara Hasanuddin di Maros, Sulawesi Selatan, lalu berganti pesawat menuju Tana Toraja.Saya akan mendarat di bandara baru Toraja sekaligus meresmikannya, hari ini. Saya juga akan meninjau pelaksanaan vaksinasi massal di Kec.  Mengkendek. https://t.co/rhojvE43JY'\nNew:\n selamat pagi toraja saya bertolak ke bandara hasanuddin di maros sulawesi selatan lalu berganti pesawat menuju tana toraja saya akan mendarat di bandara baru toraja sekaligus meresmikannya hari ini saya juga akan meninjau pelaksanaan vaksinasi massal di kec mengkendek \n\n\nOri:\n b'Program Kartu Prakerja pada 2020, menjangkau 5,6 juta penerima dari 34 provinsi dan 514 kab./kota. Program ini digulirkan untuk meningkatkan kompetensi kerja, produktivitas, dan daya saing. Tahun ini, program Kartu Prakerja juga diarahkan untuk mendorong kewirausahaan penerima.'\nNew:\n program kartu prakerja pada menjangkau juta penerima dari provinsi dan kab kota program ini digulirkan untuk meningkatkan kompetensi kerja produktivitas dan daya saing tahun ini program kartu prakerja juga diarahkan untuk mendorong kewirausahaan penerima \n\n\nOri:\n b'RT @tsetianh: Paling gak suka kalo ada cowo yg lg deket sama cewe terus semua temenya si cewe di follow Itu antara nggilani, nggateli dan\\xe2\\x80\\xa6'\nNew:\n paling gak suka kalo ada cowo yg lg deket sama cewe terus semua temenya si cewe di follow itu antara nggilani nggateli\n\n\n"
     ]
    }
   ],
   "source": [
    "import pandas as pd\n",
    "\n",
    "df = pd.read_excel('../all_tweets/all_data.xlsx', sheet_name='Sheet2')\n",
    "\n",
    "#remove newline from texts\n",
    "df.replace(to_replace=[r\"\\\\t|\\\\n|\\\\r\", \"\\t|\\n|\\r\"], value=[\"\",\"\"], regex=True, inplace=True)\n",
    "\n",
    "for t in df['text']:\n",
    "    print('Ori:\\n',t)\n",
    "    print('New:\\n',do_preprocessing(t))\n",
    "    print('\\n')"
   ]
  },
  {
   "cell_type": "code",
   "execution_count": null,
   "metadata": {},
   "outputs": [],
   "source": []
  }
 ]
}
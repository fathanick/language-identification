{
 "metadata": {
  "orig_nbformat": 2,
  "kernelspec": {
   "name": "python3",
   "display_name": "Python 3",
   "language": "python"
  }
 },
 "nbformat": 4,
 "nbformat_minor": 2,
 "cells": [
  {
   "cell_type": "code",
   "execution_count": 7,
   "metadata": {},
   "outputs": [
    {
     "output_type": "stream",
     "name": "stdout",
     "text": [
      "Keren aku lulus\n"
     ]
    }
   ],
   "source": [
    "import re\n",
    "\n",
    "s = \"Kereeeen aku lulus\"\n",
    "s = re.sub(r'([\\w])\\1+', r'\\1', s)\n",
    "print(s)"
   ]
  },
  {
   "cell_type": "code",
   "execution_count": 1,
   "metadata": {},
   "outputs": [
    {
     "output_type": "stream",
     "name": "stdout",
     "text": [
      "abcdef\nabcdef\n"
     ]
    }
   ],
   "source": [
    "s = 'ab\\ncd\\nef'\n",
    "print(s.replace('\\n', ''))\n",
    "print(s.translate({ord('\\n'): None}))"
   ]
  },
  {
   "cell_type": "code",
   "execution_count": null,
   "metadata": {},
   "outputs": [],
   "source": [
    "s = 'Tiga bukit dipangkas untuk membangun x landas pacu Bandara Toraja sepanjang 2.000x30 m.'\n",
    "def remove_single_letter(text):\n",
    "    text = re.sub('(\\\\b[A-Za-z] \\\\b|\\\\b [A-Za-z]\\\\b)', '', text)\n",
    "    return text\n",
    "\n",
    "print(remove_single_letter(s))"
   ]
  }
 ]
}